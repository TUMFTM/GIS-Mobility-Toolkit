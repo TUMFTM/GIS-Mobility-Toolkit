{
 "cells": [
  {
   "cell_type": "code",
   "execution_count": 2,
   "metadata": {},
   "outputs": [],
   "source": [
    "import geopandas as gpd\n",
    "from shapely.geometry import Point"
   ]
  },
  {
   "cell_type": "code",
   "execution_count": 4,
   "metadata": {},
   "outputs": [],
   "source": [
    "# Create a GeoDataFrame\n",
    "data = {'Name': ['Point1', 'Point2', 'Point3'],\n",
    "        'Latitude': [40.7128, 34.0522, 41.8781],\n",
    "        'Longitude': [-74.0060, -118.2437, -87.6298]}\n",
    "geometry = [Point(xy) for xy in zip(data['Longitude'], data['Latitude'])]\n",
    "gdf = gpd.GeoDataFrame(data, geometry=geometry)"
   ]
  },
  {
   "cell_type": "markdown",
   "metadata": {},
   "source": [
    "### Shapefile"
   ]
  },
  {
   "cell_type": "code",
   "execution_count": 5,
   "metadata": {},
   "outputs": [],
   "source": [
    "# Save the GeoDataFrame to a shapefile\n",
    "gdf.to_file('shapefile.shp')"
   ]
  },
  {
   "cell_type": "markdown",
   "metadata": {},
   "source": [
    "### KML"
   ]
  },
  {
   "cell_type": "code",
   "execution_count": 7,
   "metadata": {},
   "outputs": [],
   "source": [
    "import fiona\n",
    "\n",
    "fiona.supported_drivers['KML'] = 'rw'\n",
    "\n",
    "# Assuming you have a GeoDataFrame called gdf\n",
    "gdf.to_file('KMLfile.kml', driver='KML')"
   ]
  },
  {
   "cell_type": "markdown",
   "metadata": {},
   "source": [
    "### GML: Geography Markup Language"
   ]
  },
  {
   "cell_type": "code",
   "execution_count": 8,
   "metadata": {},
   "outputs": [],
   "source": [
    "gdf.to_file('GeographyMarkupLanguage.gml', driver='GML')"
   ]
  },
  {
   "cell_type": "markdown",
   "metadata": {},
   "source": [
    "### TIF"
   ]
  },
  {
   "cell_type": "code",
   "execution_count": 13,
   "metadata": {},
   "outputs": [],
   "source": [
    "import rasterio\n",
    "from rasterio.transform import from_origin\n",
    "from rasterio.enums import Resampling\n",
    "\n",
    "import numpy as np"
   ]
  },
  {
   "cell_type": "code",
   "execution_count": 5,
   "metadata": {},
   "outputs": [],
   "source": [
    "import numpy as np\n",
    "import rasterio\n",
    "from rasterio.transform import from_origin\n",
    "\n",
    "# Define the output file path\n",
    "output_tif = 'tiff.tif'\n",
    "\n",
    "# Define the raster size (width and height)\n",
    "width = 1000\n",
    "height = 1000\n",
    "\n",
    "# Define the raster's spatial resolution\n",
    "res = 0.01  # in degrees\n",
    "\n",
    "# Define the raster's coordinate reference system (CRS)\n",
    "crs = gdf.crs\n",
    "\n",
    "# Define the raster's bounding box\n",
    "bbox = gdf.total_bounds\n",
    "\n",
    "# Create the raster's transform\n",
    "transform = from_origin(bbox[0], bbox[3], res, res)\n",
    "\n",
    "# Create the raster's profile\n",
    "profile = {\n",
    "    'driver': 'GTiff',\n",
    "    'width': width,\n",
    "    'height': height,\n",
    "    'count': 1,\n",
    "    'dtype': 'float32',\n",
    "    'crs': crs,\n",
    "    'transform': transform,\n",
    "    'compress': 'lzw',\n",
    "    'nodata': -9999\n",
    "}\n",
    "\n",
    "# Create the raster's data array\n",
    "data = np.random.rand(height, width).astype(np.float32)\n",
    "\n",
    "# Write the raster to the GeoTIFF file\n",
    "with rasterio.open(output_tif, 'w', **profile) as dst:\n",
    "    dst.write(data, 1)\n",
    "\n"
   ]
  },
  {
   "cell_type": "markdown",
   "metadata": {},
   "source": [
    "### GeoPackage"
   ]
  },
  {
   "cell_type": "code",
   "execution_count": 10,
   "metadata": {},
   "outputs": [],
   "source": [
    "gdf.to_file('GeoPackage.gpkg', driver='GPKG')"
   ]
  }
 ],
 "metadata": {
  "kernelspec": {
   "display_name": "Python 3",
   "language": "python",
   "name": "python3"
  },
  "language_info": {
   "codemirror_mode": {
    "name": "ipython",
    "version": 3
   },
   "file_extension": ".py",
   "mimetype": "text/x-python",
   "name": "python",
   "nbconvert_exporter": "python",
   "pygments_lexer": "ipython3",
   "version": "3.9.0"
  }
 },
 "nbformat": 4,
 "nbformat_minor": 2
}
